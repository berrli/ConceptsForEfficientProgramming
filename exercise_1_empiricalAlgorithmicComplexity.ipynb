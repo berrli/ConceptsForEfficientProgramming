{
 "cells": [
  {
   "cell_type": "code",
   "execution_count": null,
   "id": "70edb525-91d6-4494-a063-319a096f7577",
   "metadata": {},
   "outputs": [],
   "source": [
    "import matplotlib.pyplot as plt\n",
    "import numpy as np\n",
    "import pandas as pd"
   ]
  },
  {
   "cell_type": "code",
   "execution_count": null,
   "id": "4b0a24a9-6408-4044-8d27-5534ff5fc7fa",
   "metadata": {},
   "outputs": [],
   "source": [
    "import superSecretCode as ssc\n",
    "\n",
    "def andThis(inputValue):\n",
    "    return ssc.evenSecuriter(inputValue)\n",
    "    \n",
    "def alsoThis(inputValue):\n",
    "    someBoolean = True\n",
    "    \n",
    "def nowThis(inputValue):\n",
    "    alsoThis(inputValue)\n",
    "    \n",
    "def doSomething(inputValue):\n",
    "    nowThis(inputValue)\n",
    "    return andThis(inputValue)"
   ]
  },
  {
   "cell_type": "code",
   "execution_count": null,
   "id": "1d7f2bd2-37bb-4b66-b9ef-e72a43d69a4e",
   "metadata": {},
   "outputs": [],
   "source": [
    "inputValues = np.arange(1,10, 0.01)\n",
    "display(len(inputValues))\n",
    "\n",
    "constantValues = np.array([1]* len(inputValues))  - 1\n",
    "linearValues = inputValues - 1\n",
    "quadValues = inputValues * inputValues - 1\n",
    "cubicValues = inputValues * inputValues * inputValues - 1\n",
    "display(len(constantValues))\n"
   ]
  },
  {
   "cell_type": "code",
   "execution_count": null,
   "id": "317ce465-4f67-4235-acbf-ff8b6a19296e",
   "metadata": {},
   "outputs": [],
   "source": [
    "fig, axes = plt.subplots(1, figsize=(10,10))\n",
    "axes.plot(inputValues, constantValues, label=\"Constant\")\n",
    "axes.plot(inputValues, linearValues, label=\"Linear\")\n",
    "axes.plot(inputValues, quadValues, label=\"Quadratic\")\n",
    "axes.plot(inputValues, cubicValues, label=\"Cubic\")\n",
    "axes.legend()"
   ]
  },
  {
   "cell_type": "code",
   "execution_count": null,
   "id": "9f9114be-89bb-4cde-a25b-b4bebd8f2a03",
   "metadata": {},
   "outputs": [],
   "source": [
    "#Experiment between 0 and 10 for the input sizes \n",
    "\n",
    "yourValues = []\n",
    "\n",
    "\n",
    "#Try plotting the values on \n",
    "fig, axes = plt.subplots(1, figsize=(10,10))\n",
    "axes.plot(inputValues, constantValues, label=\"Constant\")\n",
    "axes.plot(inputValues, linearValues, label=\"Linear\")\n",
    "axes.plot(inputValues, quadValues, label=\"Quadratic\")\n",
    "axes.plot(inputValues, cubicValues, label=\"Cubic\")\n",
    "#axes.plot(inputValues, yourValues, label=\"Your Values\")\n",
    "axes.legend()\n"
   ]
  },
  {
   "cell_type": "code",
   "execution_count": null,
   "id": "d796de62-1516-4e78-ada8-e5f7074d1b80",
   "metadata": {},
   "outputs": [],
   "source": [
    "######\n",
    "######\n",
    "###### Example Answers below \n",
    "######\n",
    "######\n",
    "\n",
    "unknwonValues = [doSomething(x) for x in inputValues]\n",
    "\n",
    "fig, axes = plt.subplots(1, figsize=(10,10))\n",
    "axes.plot(inputValues, constantValues, label=\"Constant\")\n",
    "axes.plot(inputValues, linearValues, label=\"Linear\")\n",
    "axes.plot(inputValues, quadValues, label=\"Quadratic\")\n",
    "axes.plot(inputValues, cubicValues, label=\"Cubic\")\n",
    "axes.plot(inputValues, unknwonValues, label=\"Unknown\")\n",
    "axes.legend()"
   ]
  },
  {
   "cell_type": "code",
   "execution_count": null,
   "id": "9e23ad65-c7be-4013-bee2-6ff863db6354",
   "metadata": {},
   "outputs": [],
   "source": []
  }
 ],
 "metadata": {
  "kernelspec": {
   "display_name": "Python 3",
   "language": "python",
   "name": "python3"
  },
  "language_info": {
   "codemirror_mode": {
    "name": "ipython",
    "version": 3
   },
   "file_extension": ".py",
   "mimetype": "text/x-python",
   "name": "python",
   "nbconvert_exporter": "python",
   "pygments_lexer": "ipython3",
   "version": "3.9.13"
  }
 },
 "nbformat": 4,
 "nbformat_minor": 5
}
